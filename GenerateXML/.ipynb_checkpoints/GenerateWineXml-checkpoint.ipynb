{
 "cells": [
  {
   "cell_type": "code",
   "execution_count": 111,
   "metadata": {},
   "outputs": [],
   "source": [
    "import pandas as pd\n",
    "import xml.etree.ElementTree as et\n",
    "import json\n",
    "import zipfile\n",
    "import matplotlib.pyplot as plt"
   ]
  },
  {
   "cell_type": "markdown",
   "metadata": {},
   "source": [
    "#### Dataset - Wine Reviews\n",
    "130k wine reviews with variety, location, winery, price, and description\n",
    "\n",
    "https://www.kaggle.com/zynicide/wine-reviews\n",
    "\n",
    "| column | description|\n",
    "| --- | --- |\n",
    "| country | The country that the wine is from\n",
    "| description | ---\n",
    "| designation | The vineyard within the winery where the grapes that made the wine are from\n",
    "| points | The number of points WineEnthusiast rated the wine on a scale of 1-100 (though they say they only post reviews for\n",
    "| price | The cost for a bottle of the wine\n",
    "| province | The cost for a bottle of the wine\n",
    "| region_1 | The wine growing area in a province or state (ie Napa)\n",
    "| region_2 | Sometimes there are more specific regions specified within a wine growing area (ie Rutherford inside the Napa Valley)\n",
    "| taster_name | ---\n",
    "| taster_twitter_handle | ---\n",
    "| title | The title of the wine review, which often contains the vintage\n",
    "| variety | The type of grapes used to make the wine (ie Pinot Noir)\n",
    "| winery | The winery that made the wine\n"
   ]
  },
  {
   "cell_type": "markdown",
   "metadata": {},
   "source": [
    "#### Configure Kaggle API"
   ]
  },
  {
   "cell_type": "code",
   "execution_count": 112,
   "metadata": {},
   "outputs": [
    {
     "name": "stdout",
     "output_type": "stream",
     "text": [
      "Requirement already satisfied: kaggle in c:\\users\\krutizna\\anaconda3\\lib\\site-packages (1.5.6)\n",
      "Requirement already satisfied: python-slugify in c:\\users\\krutizna\\anaconda3\\lib\\site-packages (from kaggle) (4.0.0)\n",
      "Requirement already satisfied: certifi in c:\\users\\krutizna\\anaconda3\\lib\\site-packages (from kaggle) (2019.11.28)\n",
      "Requirement already satisfied: tqdm in c:\\users\\krutizna\\anaconda3\\lib\\site-packages (from kaggle) (4.32.1)\n",
      "Requirement already satisfied: six>=1.10 in c:\\users\\krutizna\\anaconda3\\lib\\site-packages (from kaggle) (1.12.0)\n",
      "Requirement already satisfied: requests in c:\\users\\krutizna\\anaconda3\\lib\\site-packages (from kaggle) (2.22.0)\n",
      "Requirement already satisfied: urllib3<1.25,>=1.21.1 in c:\\users\\krutizna\\anaconda3\\lib\\site-packages (from kaggle) (1.24.2)\n",
      "Requirement already satisfied: python-dateutil in c:\\users\\krutizna\\anaconda3\\lib\\site-packages (from kaggle) (2.8.0)\n",
      "Requirement already satisfied: text-unidecode>=1.3 in c:\\users\\krutizna\\anaconda3\\lib\\site-packages (from python-slugify->kaggle) (1.3)\n",
      "Requirement already satisfied: idna<2.9,>=2.5 in c:\\users\\krutizna\\anaconda3\\lib\\site-packages (from requests->kaggle) (2.8)\n",
      "Requirement already satisfied: chardet<3.1.0,>=3.0.2 in c:\\users\\krutizna\\anaconda3\\lib\\site-packages (from requests->kaggle) (3.0.4)\n",
      "Note: you may need to restart the kernel to use updated packages.\n"
     ]
    }
   ],
   "source": [
    "pip install kaggle"
   ]
  },
  {
   "cell_type": "code",
   "execution_count": 114,
   "metadata": {},
   "outputs": [],
   "source": [
    "!mkdir C:\\Users\\Krutizna\\.kaggle \n",
    "!touch 'C:\\Users\\Krutizna\\.kaggle\\kaggle.json'"
   ]
  },
  {
   "cell_type": "markdown",
   "metadata": {},
   "source": [
    "In order to use the Kaggle’s public API, you must first authenticate using an API token. \n",
    "To get your own follow instructions: https://www.kaggle.com/docs/api#getting-started-installation-&-authentication "
   ]
  },
  {
   "cell_type": "code",
   "execution_count": 116,
   "metadata": {},
   "outputs": [],
   "source": [
    "api_token = {\"username\":\"pacificus\",\"key\":\"5a9470c294a9981a600851817837de0c\"}\n",
    "\n",
    "with open(r'C:\\Users\\Krutizna\\.kaggle\\kaggle.json', 'w') as file:\n",
    "    json.dump(api_token, file)"
   ]
  },
  {
   "cell_type": "markdown",
   "metadata": {},
   "source": [
    "#### Download dataset and unzip it"
   ]
  },
  {
   "cell_type": "code",
   "execution_count": 117,
   "metadata": {},
   "outputs": [
    {
     "name": "stdout",
     "output_type": "stream",
     "text": [
      "Downloading wine-reviews.zip to C:\\Users\\Krutizna\\Desktop\\repo\\DB_Refactoring\\GenerateXML\n",
      "\n"
     ]
    },
    {
     "name": "stderr",
     "output_type": "stream",
     "text": [
      "\n",
      "  0%|          | 0.00/50.9M [00:00<?, ?B/s]\n",
      "  2%|1         | 1.00M/50.9M [00:00<00:36, 1.45MB/s]\n",
      "  4%|3         | 2.00M/50.9M [00:00<00:26, 1.93MB/s]\n",
      "  6%|5         | 3.00M/50.9M [00:01<00:25, 1.96MB/s]\n",
      " 12%|#1        | 6.00M/50.9M [00:01<00:17, 2.68MB/s]\n",
      " 14%|#3        | 7.00M/50.9M [00:01<00:14, 3.22MB/s]\n",
      " 18%|#7        | 9.00M/50.9M [00:01<00:10, 4.16MB/s]\n",
      " 20%|#9        | 10.0M/50.9M [00:02<00:09, 4.43MB/s]\n",
      " 22%|##1       | 11.0M/50.9M [00:02<00:07, 5.30MB/s]\n",
      " 26%|##5       | 13.0M/50.9M [00:02<00:06, 6.33MB/s]\n",
      " 29%|##9       | 15.0M/50.9M [00:02<00:04, 7.53MB/s]\n",
      " 33%|###3      | 17.0M/50.9M [00:02<00:04, 8.33MB/s]\n",
      " 37%|###7      | 19.0M/50.9M [00:03<00:04, 7.17MB/s]\n",
      " 39%|###9      | 20.0M/50.9M [00:03<00:04, 7.86MB/s]\n",
      " 41%|####1     | 21.0M/50.9M [00:03<00:04, 7.65MB/s]\n",
      " 43%|####3     | 22.0M/50.9M [00:03<00:05, 5.56MB/s]\n",
      " 47%|####7     | 24.0M/50.9M [00:03<00:04, 6.26MB/s]\n",
      " 49%|####9     | 25.0M/50.9M [00:04<00:04, 5.50MB/s]\n",
      " 51%|#####1    | 26.0M/50.9M [00:04<00:04, 5.35MB/s]\n",
      " 53%|#####3    | 27.0M/50.9M [00:04<00:04, 5.66MB/s]\n",
      " 55%|#####5    | 28.0M/50.9M [00:04<00:04, 5.39MB/s]\n",
      " 57%|#####7    | 29.0M/50.9M [00:04<00:03, 5.96MB/s]\n",
      " 59%|#####8    | 30.0M/50.9M [00:05<00:03, 5.96MB/s]\n",
      " 61%|######    | 31.0M/50.9M [00:05<00:03, 6.44MB/s]\n",
      " 63%|######2   | 32.0M/50.9M [00:05<00:03, 5.19MB/s]\n",
      " 65%|######4   | 33.0M/50.9M [00:05<00:03, 5.88MB/s]\n",
      " 67%|######6   | 34.0M/50.9M [00:05<00:02, 6.77MB/s]\n",
      " 69%|######8   | 35.0M/50.9M [00:06<00:03, 4.33MB/s]\n",
      " 73%|#######2  | 37.0M/50.9M [00:06<00:02, 5.58MB/s]\n",
      " 75%|#######4  | 38.0M/50.9M [00:06<00:02, 6.26MB/s]\n",
      " 77%|#######6  | 39.0M/50.9M [00:06<00:02, 4.89MB/s]\n",
      " 79%|#######8  | 40.0M/50.9M [00:06<00:02, 5.56MB/s]\n",
      " 81%|########  | 41.0M/50.9M [00:06<00:01, 6.32MB/s]\n",
      " 83%|########2 | 42.0M/50.9M [00:07<00:01, 6.49MB/s]\n",
      " 85%|########4 | 43.0M/50.9M [00:07<00:01, 4.76MB/s]\n",
      " 88%|########8 | 45.0M/50.9M [00:07<00:01, 5.72MB/s]\n",
      " 90%|######### | 46.0M/50.9M [00:07<00:00, 5.44MB/s]\n",
      " 92%|#########2| 47.0M/50.9M [00:08<00:00, 5.10MB/s]\n",
      " 94%|#########4| 48.0M/50.9M [00:08<00:00, 4.84MB/s]\n",
      " 98%|#########8| 50.0M/50.9M [00:08<00:00, 5.50MB/s]\n",
      "100%|##########| 50.9M/50.9M [00:08<00:00, 5.90MB/s]\n"
     ]
    }
   ],
   "source": [
    "!C:\\Users\\Krutizna\\Anaconda3\\Scripts\\kaggle datasets download -d zynicide/wine-reviews\n"
   ]
  },
  {
   "cell_type": "code",
   "execution_count": 118,
   "metadata": {},
   "outputs": [],
   "source": [
    "with zipfile.ZipFile('wine-reviews.zip', 'r') as zip_ref:\n",
    "    zip_ref.extractall()"
   ]
  },
  {
   "cell_type": "code",
   "execution_count": 119,
   "metadata": {},
   "outputs": [],
   "source": [
    "base_file = 'winemag-data-130k-v2.csv'"
   ]
  },
  {
   "cell_type": "code",
   "execution_count": 120,
   "metadata": {},
   "outputs": [
    {
     "data": {
      "text/html": [
       "<div>\n",
       "<style scoped>\n",
       "    .dataframe tbody tr th:only-of-type {\n",
       "        vertical-align: middle;\n",
       "    }\n",
       "\n",
       "    .dataframe tbody tr th {\n",
       "        vertical-align: top;\n",
       "    }\n",
       "\n",
       "    .dataframe thead th {\n",
       "        text-align: right;\n",
       "    }\n",
       "</style>\n",
       "<table border=\"1\" class=\"dataframe\">\n",
       "  <thead>\n",
       "    <tr style=\"text-align: right;\">\n",
       "      <th></th>\n",
       "      <th>country</th>\n",
       "      <th>description</th>\n",
       "      <th>designation</th>\n",
       "      <th>points</th>\n",
       "      <th>price</th>\n",
       "      <th>province</th>\n",
       "      <th>region_1</th>\n",
       "      <th>region_2</th>\n",
       "      <th>taster_name</th>\n",
       "      <th>taster_twitter_handle</th>\n",
       "      <th>title</th>\n",
       "      <th>variety</th>\n",
       "      <th>winery</th>\n",
       "    </tr>\n",
       "  </thead>\n",
       "  <tbody>\n",
       "    <tr>\n",
       "      <th>0</th>\n",
       "      <td>Italy</td>\n",
       "      <td>Aromas include tropical fruit, broom, brimston...</td>\n",
       "      <td>Vulkà Bianco</td>\n",
       "      <td>87</td>\n",
       "      <td>NaN</td>\n",
       "      <td>Sicily &amp; Sardinia</td>\n",
       "      <td>Etna</td>\n",
       "      <td>NaN</td>\n",
       "      <td>Kerin O’Keefe</td>\n",
       "      <td>@kerinokeefe</td>\n",
       "      <td>Nicosia 2013 Vulkà Bianco  (Etna)</td>\n",
       "      <td>White Blend</td>\n",
       "      <td>Nicosia</td>\n",
       "    </tr>\n",
       "    <tr>\n",
       "      <th>1</th>\n",
       "      <td>Portugal</td>\n",
       "      <td>This is ripe and fruity, a wine that is smooth...</td>\n",
       "      <td>Avidagos</td>\n",
       "      <td>87</td>\n",
       "      <td>15.0</td>\n",
       "      <td>Douro</td>\n",
       "      <td>NaN</td>\n",
       "      <td>NaN</td>\n",
       "      <td>Roger Voss</td>\n",
       "      <td>@vossroger</td>\n",
       "      <td>Quinta dos Avidagos 2011 Avidagos Red (Douro)</td>\n",
       "      <td>Portuguese Red</td>\n",
       "      <td>Quinta dos Avidagos</td>\n",
       "    </tr>\n",
       "    <tr>\n",
       "      <th>2</th>\n",
       "      <td>US</td>\n",
       "      <td>Tart and snappy, the flavors of lime flesh and...</td>\n",
       "      <td>NaN</td>\n",
       "      <td>87</td>\n",
       "      <td>14.0</td>\n",
       "      <td>Oregon</td>\n",
       "      <td>Willamette Valley</td>\n",
       "      <td>Willamette Valley</td>\n",
       "      <td>Paul Gregutt</td>\n",
       "      <td>@paulgwine</td>\n",
       "      <td>Rainstorm 2013 Pinot Gris (Willamette Valley)</td>\n",
       "      <td>Pinot Gris</td>\n",
       "      <td>Rainstorm</td>\n",
       "    </tr>\n",
       "  </tbody>\n",
       "</table>\n",
       "</div>"
      ],
      "text/plain": [
       "    country                                        description   designation  \\\n",
       "0     Italy  Aromas include tropical fruit, broom, brimston...  Vulkà Bianco   \n",
       "1  Portugal  This is ripe and fruity, a wine that is smooth...      Avidagos   \n",
       "2        US  Tart and snappy, the flavors of lime flesh and...           NaN   \n",
       "\n",
       "   points  price           province           region_1           region_2  \\\n",
       "0      87    NaN  Sicily & Sardinia               Etna                NaN   \n",
       "1      87   15.0              Douro                NaN                NaN   \n",
       "2      87   14.0             Oregon  Willamette Valley  Willamette Valley   \n",
       "\n",
       "     taster_name taster_twitter_handle  \\\n",
       "0  Kerin O’Keefe          @kerinokeefe   \n",
       "1     Roger Voss            @vossroger   \n",
       "2   Paul Gregutt           @paulgwine    \n",
       "\n",
       "                                           title         variety  \\\n",
       "0              Nicosia 2013 Vulkà Bianco  (Etna)     White Blend   \n",
       "1  Quinta dos Avidagos 2011 Avidagos Red (Douro)  Portuguese Red   \n",
       "2  Rainstorm 2013 Pinot Gris (Willamette Valley)      Pinot Gris   \n",
       "\n",
       "                winery  \n",
       "0              Nicosia  \n",
       "1  Quinta dos Avidagos  \n",
       "2            Rainstorm  "
      ]
     },
     "execution_count": 120,
     "metadata": {},
     "output_type": "execute_result"
    }
   ],
   "source": [
    "df = pd.read_csv(base_file, index_col=0)\n",
    "df.head(3)"
   ]
  },
  {
   "cell_type": "markdown",
   "metadata": {},
   "source": [
    "#### Look at the data"
   ]
  },
  {
   "cell_type": "markdown",
   "metadata": {},
   "source": [
    "Count and drop non unique rows"
   ]
  },
  {
   "cell_type": "code",
   "execution_count": 121,
   "metadata": {},
   "outputs": [
    {
     "name": "stdout",
     "output_type": "stream",
     "text": [
      "Total rows:  129971\n",
      "Not unique rows:  9983\n",
      "Count after dropping:  119988\n"
     ]
    }
   ],
   "source": [
    "print(\"Total rows: \", df.shape[0])\n",
    "print(\"Not unique rows: \", df[df.duplicated(['description','title'])].shape[0])\n",
    "df = df[~df.duplicated(['description','title'])]\n",
    "print(\"Count after dropping: \", df.shape[0])"
   ]
  },
  {
   "cell_type": "markdown",
   "metadata": {},
   "source": [
    "Count nan values"
   ]
  },
  {
   "cell_type": "code",
   "execution_count": 122,
   "metadata": {},
   "outputs": [
    {
     "data": {
      "text/plain": [
       "country                     59\n",
       "description                  0\n",
       "designation              34545\n",
       "points                       0\n",
       "price                     8395\n",
       "province                    59\n",
       "region_1                 19560\n",
       "region_2                 73219\n",
       "taster_name              24917\n",
       "taster_twitter_handle    29446\n",
       "title                        0\n",
       "variety                      1\n",
       "winery                       0\n",
       "dtype: int64"
      ]
     },
     "execution_count": 122,
     "metadata": {},
     "output_type": "execute_result"
    }
   ],
   "source": [
    "df.isnull().sum(axis=0)"
   ]
  },
  {
   "cell_type": "markdown",
   "metadata": {},
   "source": [
    "Impute nan values"
   ]
  },
  {
   "cell_type": "code",
   "execution_count": 123,
   "metadata": {},
   "outputs": [
    {
     "data": {
      "text/plain": [
       "country                   object\n",
       "description               object\n",
       "designation               object\n",
       "points                     int64\n",
       "price                    float64\n",
       "province                  object\n",
       "region_1                  object\n",
       "region_2                  object\n",
       "taster_name               object\n",
       "taster_twitter_handle     object\n",
       "title                     object\n",
       "variety                   object\n",
       "winery                    object\n",
       "dtype: object"
      ]
     },
     "execution_count": 123,
     "metadata": {},
     "output_type": "execute_result"
    }
   ],
   "source": [
    "df.dtypes"
   ]
  },
  {
   "cell_type": "code",
   "execution_count": 124,
   "metadata": {
    "scrolled": false
   },
   "outputs": [],
   "source": [
    "df_object = df.select_dtypes(include='object').fillna('Unknown') \n",
    "df_numeric = df.select_dtypes(include=['int64', 'float64']) "
   ]
  },
  {
   "cell_type": "code",
   "execution_count": 125,
   "metadata": {},
   "outputs": [
    {
     "data": {
      "image/png": "[encoded data removed]",
      "text/plain": [
       "<Figure size 432x288 with 2 Axes>"
      ]
     },
     "metadata": {
      "needs_background": "light"
     },
     "output_type": "display_data"
    }
   ],
   "source": [
    "df_numeric.plot(subplots=True)\n",
    "plt.show()"
   ]
  },
  {
   "cell_type": "code",
   "execution_count": 126,
   "metadata": {},
   "outputs": [],
   "source": [
    "df_numeric = df_numeric.fillna(df_numeric.median()) "
   ]
  },
  {
   "cell_type": "code",
   "execution_count": 127,
   "metadata": {},
   "outputs": [
    {
     "data": {
      "text/plain": [
       "(119988, 13)"
      ]
     },
     "execution_count": 127,
     "metadata": {},
     "output_type": "execute_result"
    }
   ],
   "source": [
    "df =  pd.concat([df_object, df_numeric], axis=1, sort=False)\n",
    "df.shape"
   ]
  },
  {
   "cell_type": "markdown",
   "metadata": {},
   "source": [
    "#### Create simple version  to_xml()"
   ]
  },
  {
   "cell_type": "markdown",
   "metadata": {},
   "source": [
    "Set string type to all column for success serialization"
   ]
  },
  {
   "cell_type": "code",
   "execution_count": 128,
   "metadata": {},
   "outputs": [
    {
     "data": {
      "text/plain": [
       "country                  object\n",
       "description              object\n",
       "designation              object\n",
       "province                 object\n",
       "region_1                 object\n",
       "region_2                 object\n",
       "taster_name              object\n",
       "taster_twitter_handle    object\n",
       "title                    object\n",
       "variety                  object\n",
       "winery                   object\n",
       "points                   object\n",
       "price                    object\n",
       "dtype: object"
      ]
     },
     "execution_count": 128,
     "metadata": {},
     "output_type": "execute_result"
    }
   ],
   "source": [
    "df = df.astype('str')\n",
    "df.dtypes"
   ]
  },
  {
   "cell_type": "code",
   "execution_count": 129,
   "metadata": {},
   "outputs": [],
   "source": [
    "def to_xml(df, filename='text.xml'):\n",
    "    \n",
    "    root = et.Element('data');\n",
    "\n",
    "    for i,row in df.iterrows():\n",
    "        item = et.SubElement(root, 'item', attrib=row.to_dict());\n",
    "\n",
    "    tree = et.ElementTree(root)\n",
    "    tree.write(filename)\n",
    "    \n",
    "pd.DataFrame.to_xml = to_xml"
   ]
  },
  {
   "cell_type": "code",
   "execution_count": 131,
   "metadata": {},
   "outputs": [],
   "source": [
    "df.iloc[0:500].to_xml()"
   ]
  },
  {
   "cell_type": "markdown",
   "metadata": {},
   "source": [
    "#### Create full version of to_xml()"
   ]
  },
  {
   "cell_type": "code",
   "execution_count": null,
   "metadata": {},
   "outputs": [],
   "source": []
  }
 ],
 "metadata": {
  "kernelspec": {
   "display_name": "Python 3",
   "language": "python",
   "name": "python3"
  },
  "language_info": {
   "codemirror_mode": {
    "name": "ipython",
    "version": 3
   },
   "file_extension": ".py",
   "mimetype": "text/x-python",
   "name": "python",
   "nbconvert_exporter": "python",
   "pygments_lexer": "ipython3",
   "version": "3.7.1"
  }
 },
 "nbformat": 4,
 "nbformat_minor": 2
}
